{
 "cells": [
  {
   "cell_type": "code",
   "execution_count": null,
   "id": "c3bdaeff",
   "metadata": {},
   "outputs": [
    {
     "ename": "ValueError",
     "evalue": "Grammar does not cover some of the input words: '\\'program(a,\\', \\'b):\\', \\'b:\\', \\'else:\\', \\'b\"\\''.",
     "output_type": "error",
     "traceback": [
      "\u001b[31m---------------------------------------------------------------------------\u001b[39m",
      "\u001b[31mValueError\u001b[39m                                Traceback (most recent call last)",
      "\u001b[36mCell\u001b[39m\u001b[36m \u001b[39m\u001b[32mIn[1]\u001b[39m\u001b[32m, line 15\u001b[39m\n\u001b[32m      6\u001b[39m parser = RecursiveDescentParser(grammar)\n\u001b[32m      8\u001b[39m code = \u001b[33m\"\"\"\u001b[39m\n\u001b[32m      9\u001b[39m \u001b[33mdef program(a, b):\u001b[39m\n\u001b[32m     10\u001b[39m \u001b[33m    if a < b:\u001b[39m\n\u001b[32m   (...)\u001b[39m\u001b[32m     13\u001b[39m \u001b[33m        return b\u001b[39m\u001b[33m\"\u001b[39m\n\u001b[32m     14\u001b[39m \u001b[33m\"\"\"\u001b[39m\n\u001b[32m---> \u001b[39m\u001b[32m15\u001b[39m \u001b[38;5;28;01mfor\u001b[39;00m tree \u001b[38;5;129;01min\u001b[39;00m \u001b[43mparser\u001b[49m\u001b[43m.\u001b[49m\u001b[43mparse\u001b[49m\u001b[43m(\u001b[49m\u001b[43mcode\u001b[49m\u001b[43m.\u001b[49m\u001b[43msplit\u001b[49m\u001b[43m(\u001b[49m\u001b[43m)\u001b[49m\u001b[43m)\u001b[49m:\n\u001b[32m     16\u001b[39m     \u001b[38;5;28mprint\u001b[39m(tree)\n",
      "\u001b[36mFile \u001b[39m\u001b[32m~/code/personal/HRM/.venv/lib/python3.11/site-packages/nltk/parse/recursivedescent.py:76\u001b[39m, in \u001b[36mRecursiveDescentParser.parse\u001b[39m\u001b[34m(self, tokens)\u001b[39m\n\u001b[32m     72\u001b[39m \u001b[38;5;28;01mdef\u001b[39;00m\u001b[38;5;250m \u001b[39m\u001b[34mparse\u001b[39m(\u001b[38;5;28mself\u001b[39m, tokens):\n\u001b[32m     73\u001b[39m     \u001b[38;5;66;03m# Inherit docs from ParserI\u001b[39;00m\n\u001b[32m     75\u001b[39m     tokens = \u001b[38;5;28mlist\u001b[39m(tokens)\n\u001b[32m---> \u001b[39m\u001b[32m76\u001b[39m     \u001b[38;5;28;43mself\u001b[39;49m\u001b[43m.\u001b[49m\u001b[43m_grammar\u001b[49m\u001b[43m.\u001b[49m\u001b[43mcheck_coverage\u001b[49m\u001b[43m(\u001b[49m\u001b[43mtokens\u001b[49m\u001b[43m)\u001b[49m\n\u001b[32m     78\u001b[39m     \u001b[38;5;66;03m# Start a recursive descent parse, with an initial tree\u001b[39;00m\n\u001b[32m     79\u001b[39m     \u001b[38;5;66;03m# containing just the start symbol.\u001b[39;00m\n\u001b[32m     80\u001b[39m     start = \u001b[38;5;28mself\u001b[39m._grammar.start().symbol()\n",
      "\u001b[36mFile \u001b[39m\u001b[32m~/code/personal/HRM/.venv/lib/python3.11/site-packages/nltk/grammar.py:666\u001b[39m, in \u001b[36mCFG.check_coverage\u001b[39m\u001b[34m(self, tokens)\u001b[39m\n\u001b[32m    664\u001b[39m \u001b[38;5;28;01mif\u001b[39;00m missing:\n\u001b[32m    665\u001b[39m     missing = \u001b[33m\"\u001b[39m\u001b[33m, \u001b[39m\u001b[33m\"\u001b[39m.join(\u001b[33mf\u001b[39m\u001b[33m\"\u001b[39m\u001b[38;5;132;01m{\u001b[39;00mw\u001b[38;5;132;01m!r}\u001b[39;00m\u001b[33m\"\u001b[39m \u001b[38;5;28;01mfor\u001b[39;00m w \u001b[38;5;129;01min\u001b[39;00m missing)\n\u001b[32m--> \u001b[39m\u001b[32m666\u001b[39m     \u001b[38;5;28;01mraise\u001b[39;00m \u001b[38;5;167;01mValueError\u001b[39;00m(\n\u001b[32m    667\u001b[39m         \u001b[33m\"\u001b[39m\u001b[33mGrammar does not cover some of the \u001b[39m\u001b[33m\"\u001b[39m \u001b[33m\"\u001b[39m\u001b[33minput words: \u001b[39m\u001b[38;5;132;01m%r\u001b[39;00m\u001b[33m.\u001b[39m\u001b[33m\"\u001b[39m % missing\n\u001b[32m    668\u001b[39m     )\n",
      "\u001b[31mValueError\u001b[39m: Grammar does not cover some of the input words: '\\'program(a,\\', \\'b):\\', \\'b:\\', \\'else:\\', \\'b\"\\''."
     ]
    }
   ],
   "source": [
    "from dataset.grammar import get_cfg, sample_programs, parse_program\n",
    "from nltk.parse import RecursiveDescentParser\n",
    "grammar = get_cfg()\n",
    "\n",
    "\n",
    "parser = RecursiveDescentParser(grammar)\n",
    "\n",
    "code = \"\"\"\n",
    "def program(a, b):\n",
    "    if a < b:\n",
    "        return a\n",
    "    else:\n",
    "        return b\n",
    "\"\"\"\n",
    "for tree in parser.parse(code.split()):\n",
    "    print(tree)"
   ]
  },
  {
   "cell_type": "code",
   "execution_count": null,
   "id": "0683ca6c",
   "metadata": {},
   "outputs": [
    {
     "name": "stdout",
     "output_type": "stream",
     "text": [
      "(ALL\n",
      "  (LEVEL0_1\n",
      "    (INITIALIZATION (VARIABLE x) (EQUALS =) (DIGIT 10) (NEW_LINE \\n))))\n"
     ]
    },
    {
     "ename": "KeyboardInterrupt",
     "evalue": "",
     "output_type": "error",
     "traceback": [
      "\u001b[31m---------------------------------------------------------------------------\u001b[39m",
      "\u001b[31mKeyboardInterrupt\u001b[39m                         Traceback (most recent call last)",
      "\u001b[36mCell\u001b[39m\u001b[36m \u001b[39m\u001b[32mIn[6]\u001b[39m\u001b[32m, line 9\u001b[39m\n\u001b[32m      6\u001b[39m tokens = [\u001b[33m\"\u001b[39m\u001b[33mx\u001b[39m\u001b[33m\"\u001b[39m, \u001b[33m\"\u001b[39m\u001b[33m=\u001b[39m\u001b[33m\"\u001b[39m, \u001b[33m\"\u001b[39m\u001b[33m10\u001b[39m\u001b[33m\"\u001b[39m, \u001b[33m\"\u001b[39m\u001b[38;5;130;01m\\\\\u001b[39;00m\u001b[33mn\u001b[39m\u001b[33m\"\u001b[39m]\n\u001b[32m      7\u001b[39m \u001b[38;5;66;03m# tokens = [special_tokens.get(token, token) for token in tokens]\u001b[39;00m\n\u001b[32m----> \u001b[39m\u001b[32m9\u001b[39m \u001b[38;5;28;43;01mfor\u001b[39;49;00m\u001b[43m \u001b[49m\u001b[43mtree\u001b[49m\u001b[43m \u001b[49m\u001b[38;5;129;43;01min\u001b[39;49;00m\u001b[43m \u001b[49m\u001b[43mparser\u001b[49m\u001b[43m.\u001b[49m\u001b[43mparse\u001b[49m\u001b[43m(\u001b[49m\u001b[43mtokens\u001b[49m\u001b[43m)\u001b[49m\u001b[43m:\u001b[49m\n\u001b[32m     10\u001b[39m \u001b[43m    \u001b[49m\u001b[38;5;28;43mprint\u001b[39;49m\u001b[43m(\u001b[49m\u001b[43mtree\u001b[49m\u001b[43m)\u001b[49m\n",
      "\u001b[36mFile \u001b[39m\u001b[32m~/code/personal/HRM/.venv/lib/python3.11/site-packages/nltk/parse/recursivedescent.py:126\u001b[39m, in \u001b[36mRecursiveDescentParser._parse\u001b[39m\u001b[34m(self, remaining_text, tree, frontier)\u001b[39m\n\u001b[32m    124\u001b[39m \u001b[38;5;66;03m# If the next element on the frontier is a tree, expand it.\u001b[39;00m\n\u001b[32m    125\u001b[39m \u001b[38;5;28;01melif\u001b[39;00m \u001b[38;5;28misinstance\u001b[39m(tree[frontier[\u001b[32m0\u001b[39m]], Tree):\n\u001b[32m--> \u001b[39m\u001b[32m126\u001b[39m     \u001b[38;5;28;01myield from\u001b[39;00m \u001b[38;5;28mself\u001b[39m._expand(remaining_text, tree, frontier)\n\u001b[32m    128\u001b[39m \u001b[38;5;66;03m# If the next element on the frontier is a token, match it.\u001b[39;00m\n\u001b[32m    129\u001b[39m \u001b[38;5;28;01melse\u001b[39;00m:\n\u001b[32m    130\u001b[39m     \u001b[38;5;28;01myield from\u001b[39;00m \u001b[38;5;28mself\u001b[39m._match(remaining_text, tree, frontier)\n",
      "\u001b[36mFile \u001b[39m\u001b[32m~/code/personal/HRM/.venv/lib/python3.11/site-packages/nltk/parse/recursivedescent.py:225\u001b[39m, in \u001b[36mRecursiveDescentParser._expand\u001b[39m\u001b[34m(self, remaining_text, tree, frontier, production)\u001b[39m\n\u001b[32m    223\u001b[39m \u001b[38;5;28;01mif\u001b[39;00m \u001b[38;5;28mself\u001b[39m._trace:\n\u001b[32m    224\u001b[39m     \u001b[38;5;28mself\u001b[39m._trace_expand(newtree, new_frontier, production)\n\u001b[32m--> \u001b[39m\u001b[32m225\u001b[39m \u001b[38;5;28;01myield from\u001b[39;00m \u001b[38;5;28mself\u001b[39m._parse(\n\u001b[32m    226\u001b[39m     remaining_text, newtree, new_frontier + frontier[\u001b[32m1\u001b[39m:]\n\u001b[32m    227\u001b[39m )\n",
      "\u001b[36mFile \u001b[39m\u001b[32m~/code/personal/HRM/.venv/lib/python3.11/site-packages/nltk/parse/recursivedescent.py:126\u001b[39m, in \u001b[36mRecursiveDescentParser._parse\u001b[39m\u001b[34m(self, remaining_text, tree, frontier)\u001b[39m\n\u001b[32m    124\u001b[39m \u001b[38;5;66;03m# If the next element on the frontier is a tree, expand it.\u001b[39;00m\n\u001b[32m    125\u001b[39m \u001b[38;5;28;01melif\u001b[39;00m \u001b[38;5;28misinstance\u001b[39m(tree[frontier[\u001b[32m0\u001b[39m]], Tree):\n\u001b[32m--> \u001b[39m\u001b[32m126\u001b[39m     \u001b[38;5;28;01myield from\u001b[39;00m \u001b[38;5;28mself\u001b[39m._expand(remaining_text, tree, frontier)\n\u001b[32m    128\u001b[39m \u001b[38;5;66;03m# If the next element on the frontier is a token, match it.\u001b[39;00m\n\u001b[32m    129\u001b[39m \u001b[38;5;28;01melse\u001b[39;00m:\n\u001b[32m    130\u001b[39m     \u001b[38;5;28;01myield from\u001b[39;00m \u001b[38;5;28mself\u001b[39m._match(remaining_text, tree, frontier)\n",
      "\u001b[36mFile \u001b[39m\u001b[32m~/code/personal/HRM/.venv/lib/python3.11/site-packages/nltk/parse/recursivedescent.py:225\u001b[39m, in \u001b[36mRecursiveDescentParser._expand\u001b[39m\u001b[34m(self, remaining_text, tree, frontier, production)\u001b[39m\n\u001b[32m    223\u001b[39m \u001b[38;5;28;01mif\u001b[39;00m \u001b[38;5;28mself\u001b[39m._trace:\n\u001b[32m    224\u001b[39m     \u001b[38;5;28mself\u001b[39m._trace_expand(newtree, new_frontier, production)\n\u001b[32m--> \u001b[39m\u001b[32m225\u001b[39m \u001b[38;5;28;01myield from\u001b[39;00m \u001b[38;5;28mself\u001b[39m._parse(\n\u001b[32m    226\u001b[39m     remaining_text, newtree, new_frontier + frontier[\u001b[32m1\u001b[39m:]\n\u001b[32m    227\u001b[39m )\n",
      "    \u001b[31m[... skipping similar frames: RecursiveDescentParser._parse at line 126 (514 times), RecursiveDescentParser._expand at line 225 (513 times)]\u001b[39m\n",
      "\u001b[36mFile \u001b[39m\u001b[32m~/code/personal/HRM/.venv/lib/python3.11/site-packages/nltk/parse/recursivedescent.py:225\u001b[39m, in \u001b[36mRecursiveDescentParser._expand\u001b[39m\u001b[34m(self, remaining_text, tree, frontier, production)\u001b[39m\n\u001b[32m    223\u001b[39m \u001b[38;5;28;01mif\u001b[39;00m \u001b[38;5;28mself\u001b[39m._trace:\n\u001b[32m    224\u001b[39m     \u001b[38;5;28mself\u001b[39m._trace_expand(newtree, new_frontier, production)\n\u001b[32m--> \u001b[39m\u001b[32m225\u001b[39m \u001b[38;5;28;01myield from\u001b[39;00m \u001b[38;5;28mself\u001b[39m._parse(\n\u001b[32m    226\u001b[39m     remaining_text, newtree, new_frontier + frontier[\u001b[32m1\u001b[39m:]\n\u001b[32m    227\u001b[39m )\n",
      "\u001b[36mFile \u001b[39m\u001b[32m~/code/personal/HRM/.venv/lib/python3.11/site-packages/nltk/parse/recursivedescent.py:126\u001b[39m, in \u001b[36mRecursiveDescentParser._parse\u001b[39m\u001b[34m(self, remaining_text, tree, frontier)\u001b[39m\n\u001b[32m    124\u001b[39m \u001b[38;5;66;03m# If the next element on the frontier is a tree, expand it.\u001b[39;00m\n\u001b[32m    125\u001b[39m \u001b[38;5;28;01melif\u001b[39;00m \u001b[38;5;28misinstance\u001b[39m(tree[frontier[\u001b[32m0\u001b[39m]], Tree):\n\u001b[32m--> \u001b[39m\u001b[32m126\u001b[39m     \u001b[38;5;28;01myield from\u001b[39;00m \u001b[38;5;28mself\u001b[39m._expand(remaining_text, tree, frontier)\n\u001b[32m    128\u001b[39m \u001b[38;5;66;03m# If the next element on the frontier is a token, match it.\u001b[39;00m\n\u001b[32m    129\u001b[39m \u001b[38;5;28;01melse\u001b[39;00m:\n\u001b[32m    130\u001b[39m     \u001b[38;5;28;01myield from\u001b[39;00m \u001b[38;5;28mself\u001b[39m._match(remaining_text, tree, frontier)\n",
      "\u001b[36mFile \u001b[39m\u001b[32m~/code/personal/HRM/.venv/lib/python3.11/site-packages/nltk/parse/recursivedescent.py:213\u001b[39m, in \u001b[36mRecursiveDescentParser._expand\u001b[39m\u001b[34m(self, remaining_text, tree, frontier, production)\u001b[39m\n\u001b[32m    211\u001b[39m \u001b[38;5;28;01mfor\u001b[39;00m production \u001b[38;5;129;01min\u001b[39;00m productions:\n\u001b[32m    212\u001b[39m     lhs = production.lhs().symbol()\n\u001b[32m--> \u001b[39m\u001b[32m213\u001b[39m     \u001b[38;5;28;01mif\u001b[39;00m lhs == \u001b[43mtree\u001b[49m\u001b[43m[\u001b[49m\u001b[43mfrontier\u001b[49m\u001b[43m[\u001b[49m\u001b[32;43m0\u001b[39;49m\u001b[43m]\u001b[49m\u001b[43m]\u001b[49m\u001b[43m.\u001b[49m\u001b[43mlabel\u001b[49m\u001b[43m(\u001b[49m\u001b[43m)\u001b[49m:\n\u001b[32m    214\u001b[39m         subtree = \u001b[38;5;28mself\u001b[39m._production_to_tree(production)\n\u001b[32m    215\u001b[39m         \u001b[38;5;28;01mif\u001b[39;00m frontier[\u001b[32m0\u001b[39m] == ():\n",
      "\u001b[36mFile \u001b[39m\u001b[32m~/code/personal/HRM/.venv/lib/python3.11/site-packages/nltk/tree/tree.py:214\u001b[39m, in \u001b[36mTree.label\u001b[39m\u001b[34m(self)\u001b[39m\n\u001b[32m    210\u001b[39m \u001b[38;5;250m    \u001b[39m\u001b[33;03m\"\"\"Outdated method to set the node value; use the set_label() method instead.\"\"\"\u001b[39;00m\n\u001b[32m    212\u001b[39m node = \u001b[38;5;28mproperty\u001b[39m(_get_node, _set_node)\n\u001b[32m--> \u001b[39m\u001b[32m214\u001b[39m \u001b[38;5;28;01mdef\u001b[39;00m\u001b[38;5;250m \u001b[39m\u001b[34mlabel\u001b[39m(\u001b[38;5;28mself\u001b[39m):\n\u001b[32m    215\u001b[39m \u001b[38;5;250m    \u001b[39m\u001b[33;03m\"\"\"\u001b[39;00m\n\u001b[32m    216\u001b[39m \u001b[33;03m    Return the node label of the tree.\u001b[39;00m\n\u001b[32m    217\u001b[39m \n\u001b[32m   (...)\u001b[39m\u001b[32m    223\u001b[39m \u001b[33;03m    :rtype: any\u001b[39;00m\n\u001b[32m    224\u001b[39m \u001b[33;03m    \"\"\"\u001b[39;00m\n\u001b[32m    225\u001b[39m     \u001b[38;5;28;01mreturn\u001b[39;00m \u001b[38;5;28mself\u001b[39m._label\n",
      "\u001b[31mKeyboardInterrupt\u001b[39m: "
     ]
    }
   ],
   "source": []
  },
  {
   "cell_type": "code",
   "execution_count": null,
   "id": "32b1525f",
   "metadata": {},
   "outputs": [
    {
     "data": {
      "text/plain": [
       "['a=0\\\\na=0\\\\na=0\\\\na=0\\\\na=0\\\\na=0\\\\na=0\\\\na=0\\\\na=0\\\\na=0\\\\na=0\\\\na=0\\\\na=0\\\\na=0\\\\na=0\\\\na=0\\\\na=0\\\\na=0\\\\na=0\\\\na=0\\\\na=0\\\\na=0\\\\na=0\\\\na=0\\\\na=0\\\\na=0\\\\na=a+a\\\\nprint(a*g)',\n",
       " 'a=0\\\\na=0\\\\na=0\\\\na=0\\\\na=0\\\\na=0\\\\na=0\\\\na=0\\\\na=0\\\\na=0\\\\na=0\\\\na=0\\\\na=0\\\\na=0\\\\na=0\\\\na=0\\\\na=0\\\\na=0\\\\na=0\\\\na=0\\\\na=0\\\\na=0\\\\na=0\\\\na=0\\\\na=0\\\\na=0\\\\na=a+a\\\\nprint(t)',\n",
       " 'a=0\\\\na=0\\\\na=0\\\\na=0\\\\na=0\\\\na=0\\\\na=0\\\\na=0\\\\na=0\\\\na=0\\\\na=0\\\\na=0\\\\na=0\\\\na=0\\\\na=0\\\\na=0\\\\na=0\\\\na=0\\\\na=0\\\\na=0\\\\na=0\\\\na=0\\\\na=0\\\\na=0\\\\na=0\\\\na=0\\\\na=a+a\\\\nprint(v)',\n",
       " 'a=0\\\\na=0\\\\na=0\\\\na=0\\\\na=0\\\\na=0\\\\na=0\\\\na=0\\\\na=0\\\\na=0\\\\na=0\\\\na=0\\\\na=0\\\\na=0\\\\na=0\\\\na=0\\\\na=0\\\\na=0\\\\na=0\\\\na=0\\\\na=0\\\\na=0\\\\na=0\\\\na=0\\\\na=0\\\\na=0\\\\na=a+a\\\\nprint(e)',\n",
       " 'a=0\\\\na=0\\\\na=0\\\\na=0\\\\na=0\\\\na=0\\\\na=0\\\\na=0\\\\na=0\\\\na=0\\\\na=0\\\\na=0\\\\na=0\\\\na=0\\\\na=0\\\\na=0\\\\na=0\\\\na=0\\\\na=0\\\\na=0\\\\na=0\\\\na=0\\\\na=0\\\\na=0\\\\na=0\\\\na=0\\\\na=a+a\\\\nprint(a-u)',\n",
       " 'a=0\\\\na=0\\\\na=0\\\\na=0\\\\na=0\\\\na=0\\\\na=0\\\\na=0\\\\na=0\\\\na=0\\\\na=0\\\\na=0\\\\na=0\\\\na=0\\\\na=0\\\\na=0\\\\na=0\\\\na=0\\\\na=0\\\\na=0\\\\na=0\\\\na=0\\\\na=0\\\\na=0\\\\na=0\\\\na=0\\\\na=a+a\\\\nprint(a*i)',\n",
       " 'a=0\\\\na=0\\\\na=0\\\\na=0\\\\na=0\\\\na=0\\\\na=0\\\\na=0\\\\na=0\\\\na=0\\\\na=0\\\\na=0\\\\na=0\\\\na=0\\\\na=0\\\\na=0\\\\na=0\\\\na=0\\\\na=0\\\\na=0\\\\na=0\\\\na=0\\\\na=0\\\\na=0\\\\na=0\\\\na=0\\\\na=a+a\\\\nprint(a+l)',\n",
       " 'a=0\\\\na=0\\\\na=0\\\\na=0\\\\na=0\\\\na=0\\\\na=0\\\\na=0\\\\na=0\\\\na=0\\\\na=0\\\\na=0\\\\na=0\\\\na=0\\\\na=0\\\\na=0\\\\na=0\\\\na=0\\\\na=0\\\\na=0\\\\na=0\\\\na=0\\\\na=0\\\\na=0\\\\na=0\\\\na=0\\\\na=a+a\\\\nprint(a*c)',\n",
       " 'a=0\\\\na=0\\\\na=0\\\\na=0\\\\na=0\\\\na=0\\\\na=0\\\\na=0\\\\na=0\\\\na=0\\\\na=0\\\\na=0\\\\na=0\\\\na=0\\\\na=0\\\\na=0\\\\na=0\\\\na=0\\\\na=0\\\\na=0\\\\na=0\\\\na=0\\\\na=0\\\\na=0\\\\na=0\\\\na=0\\\\na=a+a\\\\nprint(a)',\n",
       " 'a=0\\\\na=0\\\\na=0\\\\na=0\\\\na=0\\\\na=0\\\\na=0\\\\na=0\\\\na=0\\\\na=0\\\\na=0\\\\na=0\\\\na=0\\\\na=0\\\\na=0\\\\na=0\\\\na=0\\\\na=0\\\\na=0\\\\na=0\\\\na=0\\\\na=0\\\\na=0\\\\na=0\\\\na=0\\\\na=0\\\\na=a+a\\\\nprint(a-p)']"
      ]
     },
     "metadata": {},
     "output_type": "display_data"
    }
   ],
   "source": [
    "from dataset.grammar import sample_programs\n",
    "\n",
    "sample_programs(n=10, level=\"LEVEL1_1\")"
   ]
  },
  {
   "cell_type": "code",
   "execution_count": null,
   "id": "bd616ecb",
   "metadata": {},
   "outputs": [
    {
     "data": {
      "text/plain": [
       "['a=0\\\\na=0\\\\na=0\\\\na=0\\\\na=0\\\\na=0\\\\na=0\\\\na=0\\\\na=0\\\\na=0\\\\na=0\\\\na=0\\\\na=0\\\\na=0\\\\na=0\\\\na=0\\\\na=0\\\\na=0\\\\na=0\\\\na=0\\\\na=0\\\\na=0\\\\na=0\\\\na=0\\\\na=0\\\\na=0\\\\na=a+a\\\\nprint(a*g)',\n",
       " 'a=0\\\\na=0\\\\na=0\\\\na=0\\\\na=0\\\\na=0\\\\na=0\\\\na=0\\\\na=0\\\\na=0\\\\na=0\\\\na=0\\\\na=0\\\\na=0\\\\na=0\\\\na=0\\\\na=0\\\\na=0\\\\na=0\\\\na=0\\\\na=0\\\\na=0\\\\na=0\\\\na=0\\\\na=0\\\\na=0\\\\na=a+a\\\\nprint(t)',\n",
       " 'a=0\\\\na=0\\\\na=0\\\\na=0\\\\na=0\\\\na=0\\\\na=0\\\\na=0\\\\na=0\\\\na=0\\\\na=0\\\\na=0\\\\na=0\\\\na=0\\\\na=0\\\\na=0\\\\na=0\\\\na=0\\\\na=0\\\\na=0\\\\na=0\\\\na=0\\\\na=0\\\\na=0\\\\na=0\\\\na=0\\\\na=a+a\\\\nprint(v)',\n",
       " 'a=0\\\\na=0\\\\na=0\\\\na=0\\\\na=0\\\\na=0\\\\na=0\\\\na=0\\\\na=0\\\\na=0\\\\na=0\\\\na=0\\\\na=0\\\\na=0\\\\na=0\\\\na=0\\\\na=0\\\\na=0\\\\na=0\\\\na=0\\\\na=0\\\\na=0\\\\na=0\\\\na=0\\\\na=0\\\\na=0\\\\na=a+a\\\\nprint(e)',\n",
       " 'a=0\\\\na=0\\\\na=0\\\\na=0\\\\na=0\\\\na=0\\\\na=0\\\\na=0\\\\na=0\\\\na=0\\\\na=0\\\\na=0\\\\na=0\\\\na=0\\\\na=0\\\\na=0\\\\na=0\\\\na=0\\\\na=0\\\\na=0\\\\na=0\\\\na=0\\\\na=0\\\\na=0\\\\na=0\\\\na=0\\\\na=a+a\\\\nprint(a-u)',\n",
       " 'a=0\\\\na=0\\\\na=0\\\\na=0\\\\na=0\\\\na=0\\\\na=0\\\\na=0\\\\na=0\\\\na=0\\\\na=0\\\\na=0\\\\na=0\\\\na=0\\\\na=0\\\\na=0\\\\na=0\\\\na=0\\\\na=0\\\\na=0\\\\na=0\\\\na=0\\\\na=0\\\\na=0\\\\na=0\\\\na=0\\\\na=a+a\\\\nprint(a*i)',\n",
       " 'a=0\\\\na=0\\\\na=0\\\\na=0\\\\na=0\\\\na=0\\\\na=0\\\\na=0\\\\na=0\\\\na=0\\\\na=0\\\\na=0\\\\na=0\\\\na=0\\\\na=0\\\\na=0\\\\na=0\\\\na=0\\\\na=0\\\\na=0\\\\na=0\\\\na=0\\\\na=0\\\\na=0\\\\na=0\\\\na=0\\\\na=a+a\\\\nprint(a+l)',\n",
       " 'a=0\\\\na=0\\\\na=0\\\\na=0\\\\na=0\\\\na=0\\\\na=0\\\\na=0\\\\na=0\\\\na=0\\\\na=0\\\\na=0\\\\na=0\\\\na=0\\\\na=0\\\\na=0\\\\na=0\\\\na=0\\\\na=0\\\\na=0\\\\na=0\\\\na=0\\\\na=0\\\\na=0\\\\na=0\\\\na=0\\\\na=a+a\\\\nprint(a*c)',\n",
       " 'a=0\\\\na=0\\\\na=0\\\\na=0\\\\na=0\\\\na=0\\\\na=0\\\\na=0\\\\na=0\\\\na=0\\\\na=0\\\\na=0\\\\na=0\\\\na=0\\\\na=0\\\\na=0\\\\na=0\\\\na=0\\\\na=0\\\\na=0\\\\na=0\\\\na=0\\\\na=0\\\\na=0\\\\na=0\\\\na=0\\\\na=a+a\\\\nprint(a)',\n",
       " 'a=0\\\\na=0\\\\na=0\\\\na=0\\\\na=0\\\\na=0\\\\na=0\\\\na=0\\\\na=0\\\\na=0\\\\na=0\\\\na=0\\\\na=0\\\\na=0\\\\na=0\\\\na=0\\\\na=0\\\\na=0\\\\na=0\\\\na=0\\\\na=0\\\\na=0\\\\na=0\\\\na=0\\\\na=0\\\\na=0\\\\na=a+a\\\\nprint(a-p)']"
      ]
     },
     "execution_count": 4,
     "metadata": {},
     "output_type": "execute_result"
    }
   ],
   "source": [
    "from dataset.grammar import sample_programs\n",
    "\n",
    "sample_programs(n=10, level=\"LEVEL1_1\")"
   ]
  },
  {
   "cell_type": "code",
   "execution_count": null,
   "id": "2c99c6ea",
   "metadata": {},
   "outputs": [
    {
     "name": "stdout",
     "output_type": "stream",
     "text": [
      "[VARIABLE -> 'a',\n",
      " VARIABLE -> 'b',\n",
      " VARIABLE -> 'c',\n",
      " VARIABLE -> 'd',\n",
      " VARIABLE -> 'e',\n",
      " VARIABLE -> 'f',\n",
      " VARIABLE -> 'g',\n",
      " VARIABLE -> 'h',\n",
      " VARIABLE -> 'i',\n",
      " VARIABLE -> 'j',\n",
      " VARIABLE -> 'k',\n",
      " VARIABLE -> 'l',\n",
      " VARIABLE -> 'm',\n",
      " VARIABLE -> 'n',\n",
      " VARIABLE -> 'o',\n",
      " VARIABLE -> 'p',\n",
      " VARIABLE -> 'q',\n",
      " VARIABLE -> 'r',\n",
      " VARIABLE -> 's',\n",
      " VARIABLE -> 't',\n",
      " VARIABLE -> 'u',\n",
      " VARIABLE -> 'v',\n",
      " VARIABLE -> 'w',\n",
      " VARIABLE -> 'x',\n",
      " VARIABLE -> 'y',\n",
      " VARIABLE -> 'z',\n",
      " DIGIT -> '0',\n",
      " DIGIT -> '1',\n",
      " DIGIT -> '2',\n",
      " DIGIT -> '3',\n",
      " DIGIT -> '4',\n",
      " DIGIT -> '5',\n",
      " DIGIT -> '6',\n",
      " DIGIT -> '7',\n",
      " DIGIT -> '8',\n",
      " DIGIT -> '9',\n",
      " DIGIT -> '10',\n",
      " DIGIT -> '11',\n",
      " DIGIT -> '12',\n",
      " DIGIT -> '13',\n",
      " DIGIT -> '14',\n",
      " DIGIT -> '15',\n",
      " DIGIT -> '16',\n",
      " DIGIT -> '17',\n",
      " DIGIT -> '18',\n",
      " DIGIT -> '19',\n",
      " DIGIT -> '20',\n",
      " ARITHMETIC_OPERATOR -> '+',\n",
      " ARITHMETIC_OPERATOR -> '-',\n",
      " ARITHMETIC_OPERATOR -> '*',\n",
      " ARITHMETIC_OPERATOR -> '/',\n",
      " RELATIONAL_OPERATOR -> '<',\n",
      " RELATIONAL_OPERATOR -> '>',\n",
      " RELATIONAL_OPERATOR -> '<=',\n",
      " RELATIONAL_OPERATOR -> '>=',\n",
      " RELATIONAL_OPERATOR -> '!=',\n",
      " RELATIONAL_OPERATOR -> '==',\n",
      " LOGICAL_OPERATOR_INFIX -> 'and',\n",
      " LOGICAL_OPERATOR_INFIX -> 'or',\n",
      " LOGICAL_OPERATOR_PREFIX -> 'not',\n",
      " NEW_LINE -> '\\\\n',\n",
      " TAB_INDENT -> '\\\\t',\n",
      " BRACKET_OPEN -> '(',\n",
      " BRACKET_CLOSE -> ')',\n",
      " EQUALS -> '=',\n",
      " COLON -> ':',\n",
      " COMMA -> ',',\n",
      " IF -> 'if',\n",
      " ELIF -> 'elif',\n",
      " ELSE -> 'else',\n",
      " FOR -> 'for',\n",
      " IN -> 'in',\n",
      " RANGE -> 'range',\n",
      " WHILE -> 'while',\n",
      " PRINT -> 'print',\n",
      " RELATIONAL_OPERATOR_LESS -> '<',\n",
      " RELATIONAL_OPERATOR_LESS -> '<=',\n",
      " RELATIONAL_OPERATOR_GREATER -> '>',\n",
      " RELATIONAL_OPERATOR_GREATER -> '>=',\n",
      " TERM -> EXPRESSION_IDENTIFIER,\n",
      " TERM -> DIGIT,\n",
      " EXPRESSION -> TERM OPERATOR TERM,\n",
      " ENCLOSED_EXPRESSION -> BRACKET_OPEN EXPRESSION BRACKET_CLOSE,\n",
      " DISPLAY_EXPRESSION -> EXPRESSION_IDENTIFIER OPERATOR EXPRESSION_IDENTIFIER,\n",
      " DISPLAY_EXPRESSION -> EXPRESSION_IDENTIFIER OPERATOR DIGIT,\n",
      " IDENTIFIER_INITIALIZATION -> IDENTIFIER_INITIALIZATION INITIALIZATION,\n",
      " IDENTIFIER_INITIALIZATION -> INITIALIZATION,\n",
      " INITIALIZATION -> VARIABLE EQUALS DIGIT NEW_LINE,\n",
      " LOGICAL_OPERATOR -> LOGICAL_OPERATOR_INFIX,\n",
      " LOGICAL_OPERATOR -> LOGICAL_OPERATOR_PREFIX,\n",
      " OPERATOR -> ARITHMETIC_OPERATOR,\n",
      " SIMPLE_ASSIGNMENTS -> VARIABLE EQUALS EXPRESSION NEW_LINE,\n",
      " SIMPLE_ASSIGNMENTS -> ,\n",
      " ADVANCED_ASSIGNMENTS -> VARIABLE EQUALS SIMPLE_ARITHMETIC_EVALUATION NEW_LINE,\n",
      " ADVANCED_ASSIGNMENTS -> VARIABLE EQUALS EXPRESSION NEW_LINE,\n",
      " ADVANCED_ASSIGNMENTS -> ,\n",
      " SIMPLE_ARITHMETIC_EVALUATION -> SIMPLE_ARITHMETIC_EVALUATION ARITHMETIC_OPERATOR ENCLOSED_EXPRESSION,\n",
      " SIMPLE_ARITHMETIC_EVALUATION -> ENCLOSED_EXPRESSION,\n",
      " SIMPLE_IF_STATEMENT -> IF CONDITION COLON NEW_LINE,\n",
      " ADVANCED_IF_STATEMENT -> IF CHAIN_CONDITION COLON NEW_LINE,\n",
      " SIMPLE_ELIF_STATEMENT -> ELIF CONDITION COLON NEW_LINE,\n",
      " ADVANCED_ELIF_STATEMENT -> ELIF CHAIN_CONDITION COLON NEW_LINE,\n",
      " ELSE_STATEMENT -> ELSE COLON NEW_LINE,\n",
      " CHAIN_CONDITION -> CHAIN_CONDITION LOGICAL_OPERATOR_INFIX ENCLOSED_CONDITION,\n",
      " CHAIN_CONDITION -> LOGICAL_OPERATOR_PREFIX ENCLOSED_CONDITION,\n",
      " CHAIN_CONDITION -> ENCLOSED_CONDITION,\n",
      " ENCLOSED_CONDITION -> BRACKET_OPEN CONDITION BRACKET_CLOSE,\n",
      " CONDITION -> OPTIONAL_NOT CONDITION_EXPRESSION,\n",
      " CONDITION -> CONDITION_EXPRESSION,\n",
      " CONDITION_EXPRESSION -> EXPRESSION_IDENTIFIER RELATIONAL_OPERATOR EXPRESSION_IDENTIFIER,\n",
      " CONDITION_EXPRESSION -> EXPRESSION_IDENTIFIER RELATIONAL_OPERATOR DIGIT,\n",
      " FOR_HEADER -> FOR EXPRESSION_IDENTIFIER IN RANGE BRACKET_OPEN INITIAL COMMA FINAL COMMA STEP BRACKET_CLOSE COLON,\n",
      " FOR_HEADER -> FOR EXPRESSION_IDENTIFIER IN RANGE BRACKET_OPEN INITIAL COMMA FINAL BRACKET_CLOSE COLON,\n",
      " INITIAL -> DIGIT,\n",
      " FINAL -> DIGIT,\n",
      " STEP -> DIGIT,\n",
      " EXPRESSION_IDENTIFIER -> VARIABLE,\n",
      " EXPRESSION_IDENTIFIER_WHILE -> VARIABLE,\n",
      " WHILE_IDENTIFIER -> VARIABLE,\n",
      " FINAL_LESS -> DIGIT,\n",
      " FINAL_GREATER -> DIGIT,\n",
      " DISPLAY_IDENTIFIER -> VARIABLE,\n",
      " FOR_LOOP -> FOR_HEADER NEW_LINE TAB_INDENT DISPLAY,\n",
      " ADVANCED_FOR_LOOP -> FOR_LOOP,\n",
      " ADVANCED_FOR_LOOP -> FOR_HEADER NEW_LINE TAB_INDENT ADVANCED_DISPLAY,\n",
      " CONDITION_EXPRESSION_LESS -> EXPRESSION_IDENTIFIER_WHILE RELATIONAL_OPERATOR_LESS FINAL_LESS,\n",
      " CONDITION_EXPRESSION_GREATER -> EXPRESSION_IDENTIFIER_WHILE RELATIONAL_OPERATOR_GREATER FINAL_GREATER,\n",
      " WHILE_HEADER_LESS -> WHILE CONDITION_EXPRESSION_LESS COLON NEW_LINE,\n",
      " WHILE_LOOP_LESS -> WHILE_HEADER_LESS TAB_INDENT DISPLAY NEW_LINE TAB_INDENT UPDATE_LESS,\n",
      " UPDATE_LESS -> WHILE_IDENTIFIER EQUALS WHILE_IDENTIFIER '+' STEP,\n",
      " WHILE_HEADER_GREATER -> WHILE CONDITION_EXPRESSION_GREATER COLON NEW_LINE,\n",
      " WHILE_LOOP_GREATER -> WHILE_HEADER_GREATER TAB_INDENT DISPLAY NEW_LINE TAB_INDENT UPDATE_GREATER,\n",
      " UPDATE_GREATER -> WHILE_IDENTIFIER EQUALS WHILE_IDENTIFIER '-' STEP,\n",
      " DISPLAY -> PRINT BRACKET_OPEN DISPLAY_IDENTIFIER BRACKET_CLOSE,\n",
      " ADVANCED_DISPLAY -> DISPLAY,\n",
      " ADVANCED_DISPLAY -> PRINT BRACKET_OPEN DISPLAY_EXPRESSION BRACKET_CLOSE,\n",
      " LEVEL0_1 -> INITIALIZATION,\n",
      " LEVEL1_1 -> IDENTIFIER_INITIALIZATION SIMPLE_ASSIGNMENTS ADVANCED_DISPLAY,\n",
      " LEVEL1_2 -> IDENTIFIER_INITIALIZATION ADVANCED_ASSIGNMENTS ADVANCED_DISPLAY,\n",
      " LEVEL2_1 -> IDENTIFIER_INITIALIZATION SIMPLE_IF_STATEMENT TAB_INDENT DISPLAY,\n",
      " LEVEL2_1 -> IDENTIFIER_INITIALIZATION SIMPLE_IF_STATEMENT TAB_INDENT DISPLAY NEW_LINE SIMPLE_ELIF_STATEMENT TAB_INDENT DISPLAY NEW_LINE ELSE_STATEMENT TAB_INDENT DISPLAY,\n",
      " LEVEL2_1 -> IDENTIFIER_INITIALIZATION SIMPLE_IF_STATEMENT TAB_INDENT DISPLAY NEW_LINE ELSE_STATEMENT TAB_INDENT DISPLAY,\n",
      " LEVEL2_2 -> IDENTIFIER_INITIALIZATION ADVANCED_ASSIGNMENTS ADVANCED_IF_STATEMENT TAB_INDENT ADVANCED_DISPLAY,\n",
      " LEVEL2_2 -> IDENTIFIER_INITIALIZATION ADVANCED_ASSIGNMENTS ADVANCED_IF_STATEMENT TAB_INDENT ADVANCED_DISPLAY NEW_LINE ADVANCED_ELIF_STATEMENT TAB_INDENT ADVANCED_DISPLAY NEW_LINE ELSE_STATEMENT TAB_INDENT ADVANCED_DISPLAY,\n",
      " LEVEL2_2 -> IDENTIFIER_INITIALIZATION ADVANCED_ASSIGNMENTS ADVANCED_IF_STATEMENT TAB_INDENT ADVANCED_DISPLAY NEW_LINE ELSE_STATEMENT TAB_INDENT ADVANCED_DISPLAY,\n",
      " LEVEL3_1 -> IDENTIFIER_INITIALIZATION FOR_LOOP,\n",
      " LEVEL3_2 -> IDENTIFIER_INITIALIZATION ADVANCED_ASSIGNMENTS ADVANCED_FOR_LOOP,\n",
      " LEVEL4_1 -> IDENTIFIER_INITIALIZATION WHILE_LOOP_LESS,\n",
      " LEVEL4_1 -> IDENTIFIER_INITIALIZATION WHILE_LOOP_GREATER,\n",
      " ALL -> LEVEL0_1,\n",
      " ALL -> LEVEL1_1,\n",
      " ALL -> LEVEL1_2,\n",
      " ALL -> LEVEL2_1,\n",
      " ALL -> LEVEL2_2,\n",
      " ALL -> LEVEL3_1,\n",
      " ALL -> LEVEL3_2,\n",
      " ALL -> LEVEL4_1]\n"
     ]
    }
   ],
   "source": [
    "from dataset.grammar import get_cfg\n",
    "from pprint import pprint\n",
    "grammar = get_cfg()\n",
    "\n",
    "pprint(grammar.productions())"
   ]
  },
  {
   "cell_type": "code",
   "execution_count": null,
   "id": "4c9a8c3d",
   "metadata": {},
   "outputs": [],
   "source": []
  }
 ],
 "metadata": {
  "kernelspec": {
   "display_name": ".venv",
   "language": "python",
   "name": "python3"
  },
  "language_info": {
   "codemirror_mode": {
    "name": "ipython",
    "version": 3
   },
   "file_extension": ".py",
   "mimetype": "text/x-python",
   "name": "python",
   "nbconvert_exporter": "python",
   "pygments_lexer": "ipython3",
   "version": "3.11.11"
  }
 },
 "nbformat": 4,
 "nbformat_minor": 5
}
