{
 "cells": [
  {
   "cell_type": "code",
   "execution_count": 1,
   "id": "8a06bfc6",
   "metadata": {},
   "outputs": [],
   "source": [
    "%load_ext autoreload\n",
    "%autoreload 2"
   ]
  },
  {
   "cell_type": "code",
   "execution_count": 2,
   "id": "41bb1580",
   "metadata": {},
   "outputs": [],
   "source": [
    "import logging\n",
    "\n",
    "logging.basicConfig(level=logging.DEBUG)\n"
   ]
  },
  {
   "cell_type": "code",
   "execution_count": 7,
   "id": "25b2a820",
   "metadata": {},
   "outputs": [
    {
     "name": "stderr",
     "output_type": "stream",
     "text": [
      "WARNING:dataset.cfg_token_validator:Non-terminal CFGNonTerminal.OPERATOR has no productions defined\n",
      "WARNING:dataset.cfg_token_validator:Non-terminal CFGNonTerminal.OPERATOR has no productions defined\n",
      "WARNING:dataset.cfg_token_validator:Non-terminal CFGNonTerminal.OPERATOR has no productions defined\n",
      "WARNING:dataset.cfg_token_validator:Non-terminal CFGNonTerminal.OPERATOR has no productions defined\n",
      "WARNING:dataset.cfg_token_validator:Non-terminal CFGNonTerminal.OPERATOR has no productions defined\n",
      "WARNING:dataset.cfg_token_validator:Non-terminal CFGNonTerminal.OPERATOR has no productions defined\n",
      "WARNING:dataset.cfg_token_validator:Non-terminal CFGNonTerminal.OPERATOR has no productions defined\n",
      "WARNING:dataset.cfg_token_validator:Non-terminal CFGNonTerminal.OPERATOR has no productions defined\n",
      "WARNING:dataset.cfg_token_validator:Non-terminal CFGNonTerminal.OPERATOR has no productions defined\n",
      "WARNING:dataset.cfg_token_validator:Non-terminal CFGNonTerminal.OPERATOR has no productions defined\n",
      "WARNING:dataset.cfg_token_validator:Non-terminal CFGNonTerminal.OPERATOR has no productions defined\n",
      "WARNING:dataset.cfg_token_validator:Non-terminal CFGNonTerminal.OPERATOR has no productions defined\n",
      "WARNING:dataset.cfg_token_validator:Non-terminal CFGNonTerminal.OPERATOR has no productions defined\n",
      "WARNING:dataset.cfg_token_validator:Non-terminal CFGNonTerminal.OPERATOR has no productions defined\n",
      "WARNING:dataset.cfg_token_validator:Non-terminal CFGNonTerminal.OPERATOR has no productions defined\n",
      "WARNING:dataset.cfg_token_validator:Non-terminal CFGNonTerminal.OPERATOR has no productions defined\n",
      "WARNING:dataset.cfg_token_validator:Non-terminal CFGNonTerminal.OPERATOR has no productions defined\n",
      "WARNING:dataset.cfg_token_validator:Non-terminal CFGNonTerminal.OPERATOR has no productions defined\n",
      "WARNING:dataset.cfg_token_validator:Non-terminal CFGNonTerminal.OPERATOR has no productions defined\n",
      "WARNING:dataset.cfg_token_validator:Non-terminal CFGNonTerminal.OPERATOR has no productions defined\n",
      "WARNING:dataset.cfg_token_validator:Non-terminal CFGNonTerminal.OPERATOR has no productions defined\n",
      "WARNING:dataset.cfg_token_validator:Non-terminal CFGNonTerminal.OPERATOR has no productions defined\n",
      "WARNING:dataset.cfg_token_validator:Non-terminal CFGNonTerminal.OPERATOR has no productions defined\n",
      "WARNING:dataset.cfg_token_validator:Non-terminal CFGNonTerminal.OPERATOR has no productions defined\n",
      "WARNING:dataset.cfg_token_validator:Non-terminal CFGNonTerminal.OPERATOR has no productions defined\n",
      "WARNING:dataset.cfg_token_validator:Non-terminal CFGNonTerminal.OPERATOR has no productions defined\n",
      "WARNING:dataset.cfg_token_validator:Non-terminal CFGNonTerminal.OPERATOR has no productions defined\n",
      "WARNING:dataset.cfg_token_validator:Non-terminal CFGNonTerminal.OPERATOR has no productions defined\n",
      "WARNING:dataset.cfg_token_validator:Non-terminal CFGNonTerminal.OPERATOR has no productions defined\n",
      "WARNING:dataset.cfg_token_validator:Non-terminal CFGNonTerminal.OPERATOR has no productions defined\n",
      "WARNING:dataset.cfg_token_validator:Non-terminal CFGNonTerminal.OPERATOR has no productions defined\n",
      "WARNING:dataset.cfg_token_validator:Non-terminal CFGNonTerminal.OPERATOR has no productions defined\n",
      "WARNING:dataset.cfg_token_validator:Non-terminal CFGNonTerminal.OPERATOR has no productions defined\n",
      "WARNING:dataset.cfg_token_validator:Non-terminal CFGNonTerminal.OPERATOR has no productions defined\n",
      "WARNING:dataset.cfg_token_validator:Non-terminal CFGNonTerminal.OPERATOR has no productions defined\n",
      "WARNING:dataset.cfg_token_validator:Non-terminal CFGNonTerminal.OPERATOR has no productions defined\n",
      "WARNING:dataset.cfg_token_validator:Non-terminal CFGNonTerminal.OPERATOR has no productions defined\n",
      "WARNING:dataset.cfg_token_validator:Non-terminal CFGNonTerminal.OPERATOR has no productions defined\n"
     ]
    },
    {
     "name": "stdout",
     "output_type": "stream",
     "text": [
      "{'def'}\n",
      "{' '}\n",
      "{'<IDENTIFIER>'}\n",
      "{'('}\n",
      "{'<IDENTIFIER>'}\n"
     ]
    }
   ],
   "source": [
    "from dataset.cfg_token_validator import CFGTokenValidator, GenerationState\n",
    "\n",
    "state = GenerationState.initial()\n",
    "\n",
    "validator = CFGTokenValidator()\n",
    "\n",
    "print(validator.get_valid_tokens(state))\n",
    "state = validator.advance_with_token(\"def\", state)\n",
    "print(validator.get_valid_tokens(state))\n",
    "state = validator.advance_with_token(\" \", state)\n",
    "print(validator.get_valid_tokens(state))\n",
    "state = validator.advance_with_token(\"abc\", state)\n",
    "print(validator.get_valid_tokens(state))\n",
    "state = validator.advance_with_token(\"(\", state)\n",
    "print(validator.get_valid_tokens(state))"
   ]
  },
  {
   "cell_type": "code",
   "execution_count": 3,
   "id": "30600ebd",
   "metadata": {},
   "outputs": [
    {
     "name": "stderr",
     "output_type": "stream",
     "text": [
      "DEBUG:dataset.cfg_parser:Productions for CFGNonTerminal.PROGRAM: [['FUNCTION']]\n",
      "DEBUG:dataset.cfg_parser:Checking if FUNCTION can start with CFGTerminal.DEF, resolved into CFGNonTerminal.FUNCTION\n",
      "DEBUG:dataset.cfg_parser:First symbol is CFGNonTerminal: CFGNonTerminal.FUNCTION\n",
      "DEBUG:dataset.cfg_parser:Checking if FUNCTION_HEADER can start with CFGTerminal.DEF, resolved into CFGNonTerminal.FUNCTION_HEADER\n",
      "DEBUG:dataset.cfg_parser:First symbol is CFGNonTerminal: CFGNonTerminal.FUNCTION_HEADER\n",
      "DEBUG:dataset.cfg_parser:Checking if def can start with CFGTerminal.DEF, resolved into CFGTerminal.DEF\n",
      "DEBUG:dataset.cfg_parser:First symbol is CFGTerminal: CFGTerminal.DEF\n",
      "DEBUG:dataset.cfg_parser:Comparing CFGTerminal.DEF == CFGTerminal.DEF = True\n",
      "DEBUG:dataset.cfg_parser:Productions for CFGNonTerminal.FUNCTION: [['FUNCTION_HEADER', 'NEWLINE', 'FUNCTION_BODY']]\n",
      "DEBUG:dataset.cfg_parser:Checking if FUNCTION_HEADER can start with function_name, resolved into CFGNonTerminal.FUNCTION_HEADER\n",
      "DEBUG:dataset.cfg_parser:First symbol is CFGNonTerminal: CFGNonTerminal.FUNCTION_HEADER\n",
      "DEBUG:dataset.cfg_parser:Checking if def can start with function_name, resolved into CFGTerminal.DEF\n",
      "DEBUG:dataset.cfg_parser:First symbol is CFGTerminal: CFGTerminal.DEF\n",
      "DEBUG:dataset.cfg_parser:Comparing def == function_name = False\n"
     ]
    },
    {
     "name": "stdout",
     "output_type": "stream",
     "text": [
      "'Initial stack:'\n",
      "deque([<CFGNonTerminal.PROGRAM: 'PROGRAM'>])\n",
      "Initial valid next tokens:\n",
      "{<CFGTerminal.DEF: 'def'>}\n",
      "Advancing with CFGTerminal.DEF\n",
      "'Current stack:'\n",
      "deque([<CFGNonTerminal.PROGRAM: 'PROGRAM'>,\n",
      "       <CFGNonTerminal.FUNCTION: 'FUNCTION'>])\n",
      "Valid next tokens:\n",
      "{<CFGTerminal.DEF: 'def'>}\n",
      "Advancing with function_name\n"
     ]
    },
    {
     "ename": "ValueError",
     "evalue": "Token function_name not valid for nonterminal CFGNonTerminal.FUNCTION",
     "output_type": "error",
     "traceback": [
      "\u001b[31m---------------------------------------------------------------------------\u001b[39m",
      "\u001b[31mValueError\u001b[39m                                Traceback (most recent call last)",
      "\u001b[36mCell\u001b[39m\u001b[36m \u001b[39m\u001b[32mIn[3]\u001b[39m\u001b[32m, line 18\u001b[39m\n\u001b[32m     16\u001b[39m \u001b[38;5;28;01mfor\u001b[39;00m terminal \u001b[38;5;129;01min\u001b[39;00m terminals:\n\u001b[32m     17\u001b[39m     \u001b[38;5;28mprint\u001b[39m(\u001b[33mf\u001b[39m\u001b[33m\"\u001b[39m\u001b[33mAdvancing with \u001b[39m\u001b[38;5;132;01m{\u001b[39;00mterminal\u001b[38;5;132;01m}\u001b[39;00m\u001b[33m\"\u001b[39m)\n\u001b[32m---> \u001b[39m\u001b[32m18\u001b[39m     \u001b[43mparser\u001b[49m\u001b[43m.\u001b[49m\u001b[43madvance\u001b[49m\u001b[43m(\u001b[49m\u001b[43mterminal\u001b[49m\u001b[43m)\u001b[49m\n\u001b[32m     19\u001b[39m     pprint(\u001b[33m\"\u001b[39m\u001b[33mCurrent stack:\u001b[39m\u001b[33m\"\u001b[39m)\n\u001b[32m     20\u001b[39m     pprint(parser.stack)\n",
      "\u001b[36mFile \u001b[39m\u001b[32m~/code/personal/HRM/dataset/cfg_parser.py:141\u001b[39m, in \u001b[36mCFGParser.advance\u001b[39m\u001b[34m(self, token)\u001b[39m\n\u001b[32m    138\u001b[39m                 \u001b[38;5;28mself\u001b[39m.stack.append(resolve_symbol(sym))\n\u001b[32m    139\u001b[39m             \u001b[38;5;28;01mreturn\u001b[39;00m\n\u001b[32m--> \u001b[39m\u001b[32m141\u001b[39m     \u001b[38;5;28;01mraise\u001b[39;00m \u001b[38;5;167;01mValueError\u001b[39;00m(\u001b[33mf\u001b[39m\u001b[33m\"\u001b[39m\u001b[33mToken \u001b[39m\u001b[38;5;132;01m{\u001b[39;00mtoken\u001b[38;5;132;01m}\u001b[39;00m\u001b[33m not valid for nonterminal \u001b[39m\u001b[38;5;132;01m{\u001b[39;00mtop\u001b[38;5;132;01m}\u001b[39;00m\u001b[33m\"\u001b[39m)\n\u001b[32m    143\u001b[39m \u001b[38;5;66;03m# Case 3: string literal\u001b[39;00m\n\u001b[32m    144\u001b[39m \u001b[38;5;28;01melif\u001b[39;00m \u001b[38;5;28misinstance\u001b[39m(top, \u001b[38;5;28mstr\u001b[39m):\n",
      "\u001b[31mValueError\u001b[39m: Token function_name not valid for nonterminal CFGNonTerminal.FUNCTION"
     ]
    }
   ],
   "source": [
    "from dataset.cfg_parser import CFGParser, CFGTerminal\n",
    "\n",
    "from pprint import pprint\n",
    "\n",
    "parser = CFGParser()\n",
    "\n",
    "pprint(\"Initial stack:\")\n",
    "pprint(parser.stack)\n",
    "\n",
    "print(\"Initial valid next tokens:\")\n",
    "pprint(parser.valid_next_tokens())\n",
    "\n",
    "\n",
    "terminals = [CFGTerminal.DEF, \"function_name\", CFGTerminal.LPAREN, CFGTerminal.RPAREN, CFGTerminal.COLON]\n",
    "\n",
    "for terminal in terminals:\n",
    "    print(f\"Advancing with {terminal}\")\n",
    "    parser.advance(terminal)\n",
    "    pprint(\"Current stack:\")\n",
    "    pprint(parser.stack)\n",
    "    print(\"Valid next tokens:\")\n",
    "    pprint(parser.valid_next_tokens())\n"
   ]
  },
  {
   "cell_type": "code",
   "execution_count": null,
   "id": "8fd4bca9",
   "metadata": {},
   "outputs": [],
   "source": []
  },
  {
   "cell_type": "code",
   "execution_count": null,
   "id": "1d30f611",
   "metadata": {},
   "outputs": [],
   "source": []
  },
  {
   "cell_type": "code",
   "execution_count": null,
   "id": "6b2bbef1",
   "metadata": {},
   "outputs": [],
   "source": []
  },
  {
   "cell_type": "code",
   "execution_count": null,
   "id": "db5f288d",
   "metadata": {},
   "outputs": [
    {
     "data": {
      "text/plain": [
       "deque([<CFGNonTerminal.PROGRAM: 'PROGRAM'>,\n",
       "       <CFGNonTerminal.FUNCTION: 'FUNCTION'>])"
      ]
     },
     "execution_count": 6,
     "metadata": {},
     "output_type": "execute_result"
    }
   ],
   "source": [
    "parser.stack"
   ]
  },
  {
   "cell_type": "code",
   "execution_count": null,
   "id": "1f78ac3f",
   "metadata": {},
   "outputs": [],
   "source": []
  },
  {
   "cell_type": "code",
   "execution_count": null,
   "id": "44aa03e6",
   "metadata": {},
   "outputs": [],
   "source": []
  },
  {
   "cell_type": "code",
   "execution_count": null,
   "id": "566e6aee",
   "metadata": {},
   "outputs": [],
   "source": []
  },
  {
   "cell_type": "code",
   "execution_count": null,
   "id": "34cff982",
   "metadata": {},
   "outputs": [],
   "source": []
  }
 ],
 "metadata": {
  "kernelspec": {
   "display_name": ".venv",
   "language": "python",
   "name": "python3"
  },
  "language_info": {
   "codemirror_mode": {
    "name": "ipython",
    "version": 3
   },
   "file_extension": ".py",
   "mimetype": "text/x-python",
   "name": "python",
   "nbconvert_exporter": "python",
   "pygments_lexer": "ipython3",
   "version": "3.11.11"
  }
 },
 "nbformat": 4,
 "nbformat_minor": 5
}
