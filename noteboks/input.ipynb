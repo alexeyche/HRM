{
 "cells": [
  {
   "cell_type": "code",
   "execution_count": 1,
   "id": "f9a2c539",
   "metadata": {},
   "outputs": [],
   "source": [
    "from dataset.programs import get_program_registry"
   ]
  },
  {
   "cell_type": "code",
   "execution_count": 2,
   "id": "86895d37",
   "metadata": {},
   "outputs": [],
   "source": [
    "programs = get_program_registry()"
   ]
  },
  {
   "cell_type": "code",
   "execution_count": 8,
   "id": "1a1da8c2",
   "metadata": {},
   "outputs": [
    {
     "data": {
      "text/plain": [
       "ProgramSpecification(name='array_min', description='Find minimum element in array', inputs=[ParameterSpec(type=<ParameterType.LIST_INT: 'List[int]'>, description='Input array', augmentation=AugmentationSpec(type='RandArray', parameters=[1, 8, -10, 20], description='Random array for min calculation'))], outputs=[ParameterSpec(type=<ParameterType.INT: 'int'>, description='Minimum element', augmentation=None)], base_examples=[Example(input=[[1, 5, 3, 9, 2]], output=1), Example(input=[[-1, -5, -2]], output=-5), Example(input=[[100]], output=100), Example(input=[[0, 0, -1]], output=-1), Example(input=[[7, 3, 7, 1]], output=1)], implementation='def program(arr):\\n    return min(arr)')"
      ]
     },
     "execution_count": 8,
     "metadata": {},
     "output_type": "execute_result"
    }
   ],
   "source": [
    "programs.programs[\"array_min\"]"
   ]
  },
  {
   "cell_type": "code",
   "execution_count": null,
   "id": "279a3b45",
   "metadata": {},
   "outputs": [],
   "source": []
  }
 ],
 "metadata": {
  "kernelspec": {
   "display_name": ".venv",
   "language": "python",
   "name": "python3"
  },
  "language_info": {
   "codemirror_mode": {
    "name": "ipython",
    "version": 3
   },
   "file_extension": ".py",
   "mimetype": "text/x-python",
   "name": "python",
   "nbconvert_exporter": "python",
   "pygments_lexer": "ipython3",
   "version": "3.13.1"
  }
 },
 "nbformat": 4,
 "nbformat_minor": 5
}
